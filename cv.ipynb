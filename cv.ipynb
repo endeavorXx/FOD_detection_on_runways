{
 "cells": [
  {
   "cell_type": "code",
   "execution_count": null,
   "metadata": {},
   "outputs": [],
   "source": [
    "import torch\n",
    " \n",
    "print(f\"Is CUDA supported by this system? \n",
    "      {torch.cuda.is_available()}\")\n",
    "print(f\"CUDA version: {torch.version.cuda}\")\n",
    " \n",
    "# Storing ID of current CUDA device\n",
    "cuda_id = torch.cuda.current_device()\n",
    "print(f\"ID of current CUDA device:\n",
    "      {torch.cuda.current_device()}\")\n",
    "       \n",
    "print(f\"Name of current CUDA device:\n",
    "      {torch.cuda.get_device_name(cuda_id)}\")"
   ]
  }
 ],
 "metadata": {
  "language_info": {
   "name": "python"
  }
 },
 "nbformat": 4,
 "nbformat_minor": 2
}
